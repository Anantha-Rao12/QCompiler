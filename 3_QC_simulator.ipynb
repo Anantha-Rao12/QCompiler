{
 "cells": [
  {
   "cell_type": "code",
   "execution_count": 588,
   "metadata": {},
   "outputs": [],
   "source": [
    "import numpy as np\n",
    "from collections import Counter\n",
    "import matplotlib.pyplot as plt\n",
    "from itertools import product"
   ]
  },
  {
   "cell_type": "code",
   "execution_count": 589,
   "metadata": {},
   "outputs": [],
   "source": [
    "# Ground stae of a Qubit system (in Computational Basis)\n",
    "\n",
    "Zero = np.array([[1.0],\n",
    "                 [0.0]])\n",
    "One = np.array([[0.0],\n",
    "                [1.0]])"
   ]
  },
  {
   "cell_type": "code",
   "execution_count": 590,
   "metadata": {},
   "outputs": [],
   "source": [
    "# Single Qubit gates\n",
    "\n",
    "X = np.array([[0,1],[1,0]],dtype = 'complex_')\n",
    "Y = np.array([[0,0-1.j],[0+1.j,0]],dtype = 'complex_')\n",
    "Z = np.array([[1,0],[0,1]],dtype = 'complex_')\n",
    "H = (1/np.sqrt(2))*np.array([[1,1],[1,-1]],dtype = 'complex_')\n",
    "I2 = np.array([[1,0],[0,1]],dtype = 'complex_')"
   ]
  },
  {
   "cell_type": "markdown",
   "metadata": {},
   "source": [
    "# Under Construction\n",
    "\n",
    "Need to add : \n",
    "\n",
    "1. More general comments and Docstrings\n",
    "2. Try,Except statements to recognize input errors\n",
    "3. Perhaps implement a OOP-approach for cleaner look"
   ]
  },
  {
   "cell_type": "code",
   "execution_count": 591,
   "metadata": {},
   "outputs": [],
   "source": [
    "def NTensor_product(*args):\n",
    "    \"\"\"Calculate the Tesnor product over a variable number of inputs\"\"\"\n",
    "    result = np.array([[1.0]])\n",
    "    for element in args:\n",
    "        result = np.kron(result, element)\n",
    "    return result  \n",
    "\n",
    "def get_groundstate(nqubits):\n",
    "    \"\"\"Get the groundstate for a #nqubit composite system\"\"\"\n",
    "    qubitlist = [Zero]*nqubits\n",
    "    groundstate = NTensor_product(*qubitlist)\n",
    "    return groundstate\n",
    "\n",
    "def get_operator(nqubits,gatename,target_qubits):\n",
    "    \n",
    "    \"\"\"Return the matrix for a specified Q-gate, no of qubits and target_qubit\"\"\"\n",
    "    \n",
    "    single_qgates = {'I2':I2,'X':X,'Y':Y,'Z':Z,'H':H}\n",
    "    if gatename in single_qgates:\n",
    "        \n",
    "        # create an array of Identity operations of len = no of qubits\n",
    "        multiqubitgate_list = np.array([single_qgates['I2'] for i in range(nqubits)])\n",
    "        # replace Id by Unitary Gate for the target qubit\n",
    "        multiqubitgate_list[target_qubits[0]] = single_qgates[gatename]\n",
    "        result = NTensor_product(*multiqubitgate_list)\n",
    "            \n",
    "    elif gatename == 'CNOT': \n",
    "        # for CNOT we need two inputs the (control,target) qubits\n",
    "        \n",
    "        control, target = target_qubits\n",
    "        \n",
    "        # Define the projection operators \n",
    "        P0 = Zero @  Zero.T\n",
    "        P1 = One @ One.T\n",
    "        \n",
    "        # create two arrays of Identity operations for CNOT\n",
    "        multiqubitgate_list1 = np.array([single_qgates['I2'] for i in range(nqubits)])\n",
    "        multiqubitgate_list2 = np.array([single_qgates['I2'] for i in range(nqubits)])\n",
    "        \n",
    "        # replace control qubit in list1 and target qubit in list2\n",
    "        multiqubitgate_list1[control] = P0\n",
    "        multiqubitgate_list2[control] = P1\n",
    "        multiqubitgate_list2[target] = single_qgates['X']\n",
    "        \n",
    "        result = NTensor_product(*multiqubitgate_list1) + NTensor_product(*multiqubitgate_list2) \n",
    "        \n",
    "        \n",
    "    return result\n",
    "\n",
    "def get_fstate(program,istate):\n",
    "    \"\"\"Given a program (quantum-circuit), execute it on a given initial state\"\"\"\n",
    "    \n",
    "    nqubits = np.int(np.log(len(istate))/np.log(2))  # get number of qubits from the given initial state\n",
    "    fstate = np.copy(istate) # copy the istate vector for fstate\n",
    "    for operation in program:\n",
    "        matrix = get_operator(nqubits,operation['gate'],operation['target'])\n",
    "        fstate = matrix @ fstate  # matrix product\n",
    "    return fstate\n",
    "\n",
    "\n",
    "def get_allstates(nqubits):\n",
    "    \"\"\"Returns a list of all basis states for a composite system of #nqubits\"\"\"\n",
    "    \n",
    "    states_list = list(product(['0', '1'], repeat=nqubits)) # gives a list of #qubits combinations of 0,1\n",
    "    basis_states = [''.join(i) for i in states_list] # concats the entries in states_list to yield basisvectors\n",
    "    allstates = list(map(lambda x : '|'+str(x)+'>',basis_states)) # moify into ket vectors\n",
    "    \n",
    "    return allstates\n",
    "\n",
    "def measure_all(statevector):\n",
    "    \"\"\"Perform measurement on given statevector\"\"\"\n",
    "    probability_dist = abs((statevector**2).real)\n",
    "    weighted_random_measurement = np.random.choice(range(len(statevector)),1, p=probability_dist.flatten())\n",
    "    return weighted_random_measurement[0]\n",
    "\n",
    "\n",
    "def get_counts(statevector,shots):\n",
    "    \"\"\"Get Counts for #measurements\"\"\"\n",
    "    \n",
    "    nqubits = np.int(np.log(len(statevector))/np.log(2))  # get number of qubits from the given statevector\n",
    "    measurement_results = [measure_all(statevector) for i in range(shots)] #get measurements for all shots\n",
    "    counter = Counter(measurement_results)  # create a dictionary with measurement results\n",
    "    \n",
    "    values = counter.values()\n",
    "    \n",
    "    allstates = get_allstates(nqubits)\n",
    "    newkeys_for_counter = [allstates[int(i)] for i in counter.keys()] # get the ket vectors for the indices in counter\n",
    "    \n",
    "    results = dict(zip(newkeys_for_counter,values))\n",
    "        \n",
    "    return results"
   ]
  },
  {
   "cell_type": "markdown",
   "metadata": {},
   "source": [
    "## Two Qubit system"
   ]
  },
  {
   "cell_type": "code",
   "execution_count": 648,
   "metadata": {},
   "outputs": [],
   "source": [
    "# A random Quantum Circuit\n",
    "\n",
    "qcircuit1 = [{ \"gate\": \"H\", \"target\": [0] },\n",
    "            { \"gate\": \"CNOT\", \"target\": [0,1] },\n",
    "            { \"gate\": \"Y\", \"target\": [0] },\n",
    "            { \"gate\": \"H\", \"target\": [1] },\n",
    "            { \"gate\": \"CNOT\", \"target\": [1,0] },\n",
    "            { \"gate\": \"Z\", \"target\": [1] },\n",
    "           ]"
   ]
  },
  {
   "cell_type": "code",
   "execution_count": 649,
   "metadata": {},
   "outputs": [
    {
     "name": "stdout",
     "output_type": "stream",
     "text": [
      "[[0.-0.5j]\n",
      " [0.+0.5j]\n",
      " [0.+0.5j]\n",
      " [0.+0.5j]]\n"
     ]
    }
   ],
   "source": [
    "twoq = get_groundstate(nqubits=2) # get ground state\n",
    "final_state1 = get_fstate(qcircuit1,twoq)  # get the final state for the given ground state and circuit\n",
    "print(final_state1)"
   ]
  },
  {
   "cell_type": "code",
   "execution_count": 650,
   "metadata": {},
   "outputs": [],
   "source": [
    "results1 = get_counts(final_state1,shots=1000)  # obtain measurement results"
   ]
  },
  {
   "cell_type": "code",
   "execution_count": 654,
   "metadata": {},
   "outputs": [
    {
     "data": {
      "image/png": "[encoded data removed]",
      "text/plain": [
       "<Figure size 432x288 with 1 Axes>"
      ]
     },
     "metadata": {
      "needs_background": "light"
     },
     "output_type": "display_data"
    }
   ],
   "source": [
    "fig = plt.figure(figsize = (6,4))\n",
    "ax = fig.add_axes([0.1,0.1,0.9,0.9])\n",
    "ax.bar(results1.keys(), results1.values(),alpha=0.7)\n",
    "ax.set_xlabel('Quantum States (Big-endian)',fontsize=14)\n",
    "ax.set_ylabel('Frequency',fontsize=14)\n",
    "ax.set_title('Measurement Results',fontsize=14)\n",
    "plt.show()"
   ]
  },
  {
   "cell_type": "markdown",
   "metadata": {},
   "source": [
    "## Three Qubit System"
   ]
  },
  {
   "cell_type": "code",
   "execution_count": 655,
   "metadata": {},
   "outputs": [],
   "source": [
    "# A random Quantum Circuit\n",
    "\n",
    "qcircuit2 = [{ \"gate\": \"H\", \"target\": [0] },\n",
    "            { \"gate\": \"H\", \"target\": [1] },\n",
    "            { \"gate\": \"H\", \"target\": [2] },\n",
    "            { \"gate\": \"CNOT\", \"target\": [0,1] },\n",
    "            { \"gate\": \"Y\", \"target\": [0] },\n",
    "            { \"gate\": \"CNOT\", \"target\": [2,1] },\n",
    "            { \"gate\": \"Z\", \"target\": [2] },\n",
    "           ]"
   ]
  },
  {
   "cell_type": "code",
   "execution_count": 656,
   "metadata": {},
   "outputs": [
    {
     "name": "stdout",
     "output_type": "stream",
     "text": [
      "[[0.-0.35355339j]\n",
      " [0.-0.35355339j]\n",
      " [0.-0.35355339j]\n",
      " [0.-0.35355339j]\n",
      " [0.+0.35355339j]\n",
      " [0.+0.35355339j]\n",
      " [0.+0.35355339j]\n",
      " [0.+0.35355339j]]\n"
     ]
    }
   ],
   "source": [
    "threeq = get_groundstate(nqubits=3) # get ground state\n",
    "final_state2 = get_fstate(qcircuit2,threeq)  # get the final state for the given ground state and circuit\n",
    "print(final_state2)"
   ]
  },
  {
   "cell_type": "code",
   "execution_count": 657,
   "metadata": {},
   "outputs": [],
   "source": [
    "results2 = get_counts(final_state2,shots=1000)  # obtain measurement results"
   ]
  },
  {
   "cell_type": "code",
   "execution_count": 658,
   "metadata": {},
   "outputs": [
    {
     "data": {
      "image/png": "[encoded data removed]",
      "text/plain": [
       "<Figure size 432x288 with 1 Axes>"
      ]
     },
     "metadata": {
      "needs_background": "light"
     },
     "output_type": "display_data"
    }
   ],
   "source": [
    "fig = plt.figure(figsize = (6,4))\n",
    "ax = fig.add_axes([0.1,0.1,0.9,0.9])\n",
    "ax.bar(results2.keys(), results2.values(),alpha=0.7)\n",
    "ax.set_xlabel('Quantum States (Big-endian)',fontsize=14)\n",
    "ax.set_ylabel('Frequency',fontsize=14)\n",
    "ax.set_title('Measurement Results',fontsize=14)\n",
    "plt.show()"
   ]
  },
  {
   "cell_type": "code",
   "execution_count": null,
   "metadata": {},
   "outputs": [],
   "source": []
  }
 ],
 "metadata": {
  "kernelspec": {
   "display_name": "Python 3",
   "language": "python",
   "name": "python3"
  },
  "language_info": {
   "codemirror_mode": {
    "name": "ipython",
    "version": 3
   },
   "file_extension": ".py",
   "mimetype": "text/x-python",
   "name": "python",
   "nbconvert_exporter": "python",
   "pygments_lexer": "ipython3",
   "version": "3.8.5"
  }
 },
 "nbformat": 4,
 "nbformat_minor": 4
}
