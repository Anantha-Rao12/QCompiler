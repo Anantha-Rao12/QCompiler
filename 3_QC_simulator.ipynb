{
 "cells": [
  {
   "cell_type": "code",
   "execution_count": 1,
   "metadata": {},
   "outputs": [],
   "source": [
    "import numpy as np\n",
    "import matplotlib.pyplot as plt\n",
    "from qc_simulator import QuantumCircuit"
   ]
  },
  {
   "cell_type": "markdown",
   "metadata": {},
   "source": [
    "## Two Qubit system (Example 1)"
   ]
  },
  {
   "cell_type": "code",
   "execution_count": 2,
   "metadata": {},
   "outputs": [
    {
     "name": "stdout",
     "output_type": "stream",
     "text": [
      "Initial State :\n",
      " [[1.]\n",
      " [0.]\n",
      " [0.]\n",
      " [0.]]\n",
      "\n",
      "Final state:\n",
      " [[0.70710678+0.j]\n",
      " [0.        +0.j]\n",
      " [0.        +0.j]\n",
      " [0.70710678+0.j]]\n"
     ]
    }
   ],
   "source": [
    "# Basic Quantum circuit to obtain Entanglement\n",
    "\n",
    "circuit1 = QuantumCircuit(nqubits=2)\n",
    "\n",
    "qcircuit = [{ \"gate\": \"H\", \"target\": [0] },\n",
    "            { \"gate\": \"CNOT\", \"target\": [0,1] }]\n",
    "            \n",
    "initial_state = circuit1.get_groundstate()\n",
    "print(f'Initial State :\\n {initial_state}')\n",
    "\n",
    "final_state = circuit1.get_finalstate(qcircuit,initial_state)\n",
    "print(f'\\nFinal state:\\n {final_state}')\n",
    "\n",
    "# use help(QuantumCircuit) for docs"
   ]
  },
  {
   "cell_type": "code",
   "execution_count": 3,
   "metadata": {},
   "outputs": [
    {
     "name": "stdout",
     "output_type": "stream",
     "text": [
      "\n",
      "Measurement Results: {'|11>': 527, '|00>': 473}\n"
     ]
    }
   ],
   "source": [
    "results = circuit1.get_counts(final_state,shots=1000)  # obtain measurement results\n",
    "print('\\nMeasurement Results:',results)"
   ]
  },
  {
   "cell_type": "code",
   "execution_count": 4,
   "metadata": {},
   "outputs": [
    {
     "data": {
      "image/png": "[encoded data removed]",
      "text/plain": [
       "<Figure size 432x288 with 1 Axes>"
      ]
     },
     "metadata": {
      "needs_background": "light"
     },
     "output_type": "display_data"
    }
   ],
   "source": [
    "fig = plt.figure(figsize = (6,4))\n",
    "ax = fig.add_axes([0.1,0.1,0.9,0.9])\n",
    "ax.bar(results.keys(), results.values(),alpha=0.7)\n",
    "ax.set_xlabel('Quantum States (Big-endian)',fontsize=14)\n",
    "ax.set_ylabel('Frequency',fontsize=14)\n",
    "ax.set_title('Measurement Results',fontsize=14)\n",
    "plt.show()"
   ]
  },
  {
   "cell_type": "markdown",
   "metadata": {},
   "source": [
    "## Two Qubit system (Example 2)"
   ]
  },
  {
   "cell_type": "code",
   "execution_count": 5,
   "metadata": {},
   "outputs": [],
   "source": [
    "# A random Quantum Circuit\n",
    "\n",
    "qcircuit2 = [{ \"gate\": \"H\", \"target\": [0] },\n",
    "            { \"gate\": \"CNOT\", \"target\": [0,1] },\n",
    "            { \"gate\": \"Y\", \"target\": [0] },\n",
    "            { \"gate\": \"H\", \"target\": [1] },\n",
    "            { \"gate\": \"CNOT\", \"target\": [1,0] },\n",
    "            { \"gate\": \"Z\", \"target\": [1] },\n",
    "            { \"gate\": \"S\", \"target\": [1] },\n",
    "           { \"gate\": \"T\", \"target\": [1] },\n",
    "           ]"
   ]
  },
  {
   "cell_type": "code",
   "execution_count": 6,
   "metadata": {},
   "outputs": [
    {
     "name": "stdout",
     "output_type": "stream",
     "text": [
      "Initial State :\n",
      " [[0.5]\n",
      " [0.5]\n",
      " [0.5]\n",
      " [0.5]]\n",
      "\n",
      "Final state (after normalization):\n",
      " [[ 0.        -0.5j       ]\n",
      " [-0.35355339-0.35355339j]\n",
      " [ 0.        +0.5j       ]\n",
      " [-0.35355339-0.35355339j]]\n"
     ]
    }
   ],
   "source": [
    "circuit2 = QuantumCircuit(2)\n",
    "initial_state2 = (1/2)*np.ones((4,1)) #different from ground state\n",
    "final_state2 = circuit2.get_finalstate(qcircuit2,initial_state) \n",
    "\n",
    "\n",
    "print(f'Initial State :\\n {initial_state2}')\n",
    "print(f'\\nFinal state (after normalization):\\n {final_state2}')"
   ]
  },
  {
   "cell_type": "code",
   "execution_count": 7,
   "metadata": {},
   "outputs": [],
   "source": [
    "results2 = circuit2.get_counts(final_state2,shots=1000)  # obtain measurement results"
   ]
  },
  {
   "cell_type": "code",
   "execution_count": 8,
   "metadata": {},
   "outputs": [
    {
     "data": {
      "image/png": "[encoded data removed]",
      "text/plain": [
       "<Figure size 432x288 with 1 Axes>"
      ]
     },
     "metadata": {
      "needs_background": "light"
     },
     "output_type": "display_data"
    }
   ],
   "source": [
    "fig = plt.figure(figsize = (6,4))\n",
    "ax = fig.add_axes([0.1,0.1,0.9,0.9])\n",
    "ax.bar(results2.keys(), results2.values(),alpha=0.7)\n",
    "ax.set_xlabel('Quantum States (Big-endian)',fontsize=14)\n",
    "ax.set_ylabel('Frequency',fontsize=14)\n",
    "ax.set_title('Measurement Results',fontsize=14)\n",
    "plt.show()"
   ]
  },
  {
   "cell_type": "markdown",
   "metadata": {},
   "source": [
    "## Three Qubit System"
   ]
  },
  {
   "cell_type": "code",
   "execution_count": 9,
   "metadata": {},
   "outputs": [],
   "source": [
    "# A random Quantum Circuit\n",
    "\n",
    "qcircuit3 = [{ \"gate\": \"H\", \"target\": [0] },\n",
    "            { \"gate\": \"H\", \"target\": [1] },\n",
    "            { \"gate\": \"H\", \"target\": [2] },\n",
    "            { \"gate\": \"CNOT\", \"target\": [0,1] },\n",
    "            { \"gate\": \"Y\", \"target\": [0] },\n",
    "            { \"gate\": \"CNOT\", \"target\": [2,1] },\n",
    "            { \"gate\": \"Z\", \"target\": [2] },\n",
    "           ]"
   ]
  },
  {
   "cell_type": "code",
   "execution_count": 10,
   "metadata": {},
   "outputs": [
    {
     "name": "stdout",
     "output_type": "stream",
     "text": [
      "Initial State :\n",
      " [[1.]\n",
      " [0.]\n",
      " [0.]\n",
      " [0.]\n",
      " [0.]\n",
      " [0.]\n",
      " [0.]\n",
      " [0.]]\n",
      "\n",
      "Final state:\n",
      " [[0.-0.35355339j]\n",
      " [0.-0.35355339j]\n",
      " [0.-0.35355339j]\n",
      " [0.-0.35355339j]\n",
      " [0.+0.35355339j]\n",
      " [0.+0.35355339j]\n",
      " [0.+0.35355339j]\n",
      " [0.+0.35355339j]]\n"
     ]
    }
   ],
   "source": [
    "circuit3 = QuantumCircuit(3)\n",
    "final_state3 = circuit3.get_finalstate(qcircuit3)  #uses ground state as default\n",
    "\n",
    "\n",
    "print(f'Initial State :\\n {circuit3.get_groundstate()}')\n",
    "print(f'\\nFinal state:\\n {final_state3}')"
   ]
  },
  {
   "cell_type": "code",
   "execution_count": 11,
   "metadata": {},
   "outputs": [
    {
     "name": "stdout",
     "output_type": "stream",
     "text": [
      "{'|110>': 117, '|010>': 129, '|100>': 120, '|001>': 116, '|111>': 135, '|000>': 130, '|011>': 142, '|101>': 111}\n"
     ]
    }
   ],
   "source": [
    "results3 = circuit3.get_counts(final_state3,shots=1000)  # obtain measurement results\n",
    "print(results3)"
   ]
  },
  {
   "cell_type": "code",
   "execution_count": 12,
   "metadata": {},
   "outputs": [
    {
     "data": {
      "image/png": "[encoded data removed]",
      "text/plain": [
       "<Figure size 432x288 with 1 Axes>"
      ]
     },
     "metadata": {
      "needs_background": "light"
     },
     "output_type": "display_data"
    }
   ],
   "source": [
    "fig = plt.figure(figsize = (6,4))\n",
    "ax = fig.add_axes([0.1,0.1,0.9,0.9])\n",
    "ax.bar(results3.keys(), results3.values(),alpha=0.7)\n",
    "ax.set_xlabel('Quantum States (Big-endian)',fontsize=14)\n",
    "ax.set_ylabel('Frequency',fontsize=14)\n",
    "ax.set_title('Measurement Results',fontsize=14)\n",
    "plt.show()"
   ]
  },
  {
   "cell_type": "markdown",
   "metadata": {},
   "source": [
    "# Four Qubit System\n"
   ]
  },
  {
   "cell_type": "code",
   "execution_count": 13,
   "metadata": {},
   "outputs": [],
   "source": [
    "circuit4 = QuantumCircuit(4)"
   ]
  },
  {
   "cell_type": "code",
   "execution_count": 14,
   "metadata": {},
   "outputs": [],
   "source": [
    "# A simple circuit\n",
    "\n",
    "program = [{ \"gate\": \"H\", \"target\": [0] },\n",
    "           { \"gate\": \"H\", \"target\": [1] },\n",
    "           { \"gate\": \"H\", \"target\": [2] },\n",
    "           { \"gate\": \"CNOT\",\"target\": [0,1]},\n",
    "           { \"gate\": \"CNOT\",\"target\": [0,3]},\n",
    "           { \"gate\": \"CNOT\",\"target\": [0,3]},\n",
    "           { \"gate\": \"CNOT\",\"target\": [1,2]},\n",
    "           { \"gate\": \"CNOT\",\"target\": [2,0]},\n",
    "           { \"gate\": 'X',\"target\": [0]}\n",
    "          ]"
   ]
  },
  {
   "cell_type": "code",
   "execution_count": 15,
   "metadata": {},
   "outputs": [
    {
     "data": {
      "text/plain": [
       "['|0000>',\n",
       " '|0001>',\n",
       " '|0010>',\n",
       " '|0011>',\n",
       " '|0100>',\n",
       " '|0101>',\n",
       " '|0110>',\n",
       " '|0111>',\n",
       " '|1000>',\n",
       " '|1001>',\n",
       " '|1010>',\n",
       " '|1011>',\n",
       " '|1100>',\n",
       " '|1101>',\n",
       " '|1110>',\n",
       " '|1111>']"
      ]
     },
     "execution_count": 15,
     "metadata": {},
     "output_type": "execute_result"
    }
   ],
   "source": [
    "# Obtain the Standard basis for 4-qubit system\n",
    "circuit4.get_std_basis()"
   ]
  },
  {
   "cell_type": "code",
   "execution_count": 16,
   "metadata": {},
   "outputs": [
    {
     "name": "stdout",
     "output_type": "stream",
     "text": [
      "[[0.35355339+0.j]\n",
      " [0.        +0.j]\n",
      " [0.35355339+0.j]\n",
      " [0.        +0.j]\n",
      " [0.35355339+0.j]\n",
      " [0.        +0.j]\n",
      " [0.35355339+0.j]\n",
      " [0.        +0.j]\n",
      " [0.35355339+0.j]\n",
      " [0.        +0.j]\n",
      " [0.35355339+0.j]\n",
      " [0.        +0.j]\n",
      " [0.35355339+0.j]\n",
      " [0.        +0.j]\n",
      " [0.35355339+0.j]\n",
      " [0.        +0.j]]\n"
     ]
    }
   ],
   "source": [
    "final_state = circuit4.get_finalstate(program) #use groundstate as initial state\n",
    "print(final_state)"
   ]
  },
  {
   "cell_type": "code",
   "execution_count": 17,
   "metadata": {},
   "outputs": [
    {
     "name": "stdout",
     "output_type": "stream",
     "text": [
      "{'|0010>': 129, '|0110>': 127, '|1110>': 114, '|1100>': 136, '|1000>': 118, '|1010>': 136, '|0000>': 145, '|0100>': 119}\n"
     ]
    }
   ],
   "source": [
    "results4 = circuit4.get_counts(final_state,shots=1024)\n",
    "print(results4)"
   ]
  },
  {
   "cell_type": "code",
   "execution_count": 18,
   "metadata": {},
   "outputs": [
    {
     "data": {
      "image/png": "[encoded data removed]",
      "text/plain": [
       "<Figure size 432x288 with 1 Axes>"
      ]
     },
     "metadata": {
      "needs_background": "light"
     },
     "output_type": "display_data"
    }
   ],
   "source": [
    "fig = plt.figure(figsize = (6,4))\n",
    "ax = fig.add_axes([0.1,0.1,0.9,0.9])\n",
    "ax.bar(results4.keys(), results4.values(),alpha=0.7)\n",
    "ax.set_xlabel('Quantum States (Big-endian)',fontsize=14)\n",
    "ax.set_ylabel('Frequency',fontsize=14)\n",
    "ax.set_title('Measurement Results',fontsize=14)\n",
    "plt.show()"
   ]
  },
  {
   "cell_type": "markdown",
   "metadata": {},
   "source": [
    "Thank you ! \n",
    "\n",
    "Some References that I found very helpful : \n",
    "\n",
    "1. https://qiskit.org/textbook/ch-states/single-qubit-gates.html\n",
    "2. https://docs.python.org/3/library/typing.html"
   ]
  },
  {
   "cell_type": "code",
   "execution_count": null,
   "metadata": {},
   "outputs": [],
   "source": []
  }
 ],
 "metadata": {
  "kernelspec": {
   "display_name": "Python 3",
   "language": "python",
   "name": "python3"
  },
  "language_info": {
   "codemirror_mode": {
    "name": "ipython",
    "version": 3
   },
   "file_extension": ".py",
   "mimetype": "text/x-python",
   "name": "python",
   "nbconvert_exporter": "python",
   "pygments_lexer": "ipython3",
   "version": "3.8.5"
  }
 },
 "nbformat": 4,
 "nbformat_minor": 4
}
